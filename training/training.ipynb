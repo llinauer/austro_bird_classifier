{
 "cells": [
  {
   "cell_type": "code",
   "execution_count": null,
   "id": "fbe1b5e1-51c0-4584-90e9-2c16f0435036",
   "metadata": {},
   "outputs": [],
   "source": [
    "import torch\n",
    "import torch.nn as nn\n",
    "from torchvision import transforms\n",
    "from fastai.callback.fp16 import to_fp16\n",
    "from fastai.vision import *\n",
    "from fastai.data.all import *\n",
    "from fastai.vision.all import *"
   ]
  },
  {
   "cell_type": "markdown",
   "id": "36dc5d72-b55b-4152-96fa-90669524928e",
   "metadata": {},
   "source": [
    "# function definitions"
   ]
  },
  {
   "cell_type": "code",
   "execution_count": null,
   "id": "44667f86-9f58-400a-beab-ae5fd0a9eed5",
   "metadata": {},
   "outputs": [],
   "source": [
    "def dl_accuracy(learner, dl, gpu=False):\n",
    "    act, true_labels = learner.get_preds(dl=dl)\n",
    "    preds = torch.argmax(act, axis=1)\n",
    "    acc = torch.where(true_labels == preds, 1., 0.).mean()\n",
    "    return acc.item()"
   ]
  },
  {
   "cell_type": "code",
   "execution_count": null,
   "id": "795df62c-27a6-49ff-8d0f-922a2ba0a474",
   "metadata": {},
   "outputs": [],
   "source": [
    "def nosplit(o): return L(int(i) for i in range(len(o))), L()"
   ]
  },
  {
   "cell_type": "markdown",
   "id": "9079b0f1-f8ef-489c-9aef-37573a4d49d4",
   "metadata": {},
   "source": [
    "# load data"
   ]
  },
  {
   "cell_type": "code",
   "execution_count": null,
   "id": "6a5a2d57-6601-4cdb-bdf2-56ab504b3b4a",
   "metadata": {},
   "outputs": [],
   "source": [
    "if torch.cuda.is_available():\n",
    "    use_gpu = True\n",
    "    gpu = torch.device('cuda')\n",
    "    print(torch.cuda.get_device_name(0))\n",
    "else:\n",
    "    print('No GPU available')"
   ]
  },
  {
   "cell_type": "code",
   "execution_count": null,
   "id": "6afb4b6b-6001-4a7c-bdde-4ea9cd2a171e",
   "metadata": {},
   "outputs": [],
   "source": [
    "train_dblock = DataBlock(blocks = (ImageBlock, CategoryBlock),\n",
    "                                   get_items=get_image_files, \n",
    "                                   splitter=RandomSplitter(seed=42),\n",
    "                                   get_y=parent_label,\n",
    "                                   item_tfms=Resize(460),\n",
    "                                   batch_tfms=[*aug_transforms(size=224, min_scale=0.75),\n",
    "                                               Normalize.from_stats(*imagenet_stats)])"
   ]
  },
  {
   "cell_type": "code",
   "execution_count": null,
   "id": "54e8dcb2-f872-484e-b2a6-45ae350792d4",
   "metadata": {},
   "outputs": [],
   "source": [
    "test_dblock = DataBlock(blocks = (ImageBlock, CategoryBlock),\n",
    "                                  get_items=get_image_files, \n",
    "                                  splitter=nosplit,\n",
    "                                  get_y=parent_label,\n",
    "                                  item_tfms=Resize(460),\n",
    "                                  batch_tfms=[*aug_transforms(size=224, min_scale=0.75),\n",
    "                                              Normalize.from_stats(*imagenet_stats)])"
   ]
  },
  {
   "cell_type": "code",
   "execution_count": null,
   "id": "1df59d24-a969-4934-aaf8-ece6a53ea1ab",
   "metadata": {},
   "outputs": [],
   "source": [
    "train_dls = train_dblock.dataloaders('austrian_birds_dataset/images/train/', bs=128)\n",
    "test_dls = test_dblock.dataloaders('austrian_birds_dataset/images/test/', bs=64)"
   ]
  },
  {
   "cell_type": "markdown",
   "id": "dc30f327-6bbe-4fe7-a174-6a023f9c7d54",
   "metadata": {},
   "source": [
    "# Resnet50"
   ]
  },
  {
   "cell_type": "code",
   "execution_count": null,
   "id": "fd23179a-6b63-4895-8520-7d6beb7320df",
   "metadata": {},
   "outputs": [],
   "source": [
    "# create a resnet50 learner\n",
    "resnet50_learner = vision_learner(train_dls, resnet50, metrics=accuracy)"
   ]
  },
  {
   "cell_type": "code",
   "execution_count": null,
   "id": "72d36579-6df0-47f2-a4ab-0ad19f265833",
   "metadata": {},
   "outputs": [],
   "source": [
    "# use lr_find to get a good estimate for the base learning rate\n",
    "lr_min,lr_steep = learn.lr_find(suggest_funcs=(minimum, steep))\n",
    "print(f\"Minimum/10: {lr_min:.2e}, steepest point: {lr_steep:.2e}\")"
   ]
  },
  {
   "cell_type": "code",
   "execution_count": null,
   "id": "da892be0-c6ee-4b77-8d8d-fefdc2432f67",
   "metadata": {},
   "outputs": [],
   "source": [
    "# training\n",
    "resnet50_learner.fine_tune(40, freeze_epochs=3, base_lr=2e-2)"
   ]
  },
  {
   "cell_type": "code",
   "execution_count": null,
   "id": "e305fc7f-f6ad-4aa0-9ddb-657dd1dd4d7c",
   "metadata": {},
   "outputs": [],
   "source": [
    "# check accuracy on the test data set\n",
    "dl_accuracy(resnet50_learner, test_dls.train)"
   ]
  },
  {
   "cell_type": "code",
   "execution_count": null,
   "id": "ac04ae92-0d90-4bfd-bcb6-3104966e1624",
   "metadata": {},
   "outputs": [],
   "source": [
    "# export the pickled model\n",
    "resnet50_learner.export('models/bird_classifier_resnet50.pkl', with_opt=False)"
   ]
  }
 ],
 "metadata": {
  "kernelspec": {
   "display_name": "Python 3 (ipykernel)",
   "language": "python",
   "name": "python3"
  },
  "language_info": {
   "codemirror_mode": {
    "name": "ipython",
    "version": 3
   },
   "file_extension": ".py",
   "mimetype": "text/x-python",
   "name": "python",
   "nbconvert_exporter": "python",
   "pygments_lexer": "ipython3",
   "version": "3.10.6"
  }
 },
 "nbformat": 4,
 "nbformat_minor": 5
}
