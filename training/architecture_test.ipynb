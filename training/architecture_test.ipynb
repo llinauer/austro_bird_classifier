{
 "cells": [
  {
   "cell_type": "code",
   "execution_count": null,
   "id": "fbe1b5e1-51c0-4584-90e9-2c16f0435036",
   "metadata": {},
   "outputs": [],
   "source": [
    "import torch\n",
    "import torch.nn as nn\n",
    "from torchvision import transforms\n",
    "from fastai.callback.fp16 import to_fp16\n",
    "from fastai.vision import *\n",
    "from fastai.data.all import *\n",
    "from fastai.vision.all import *"
   ]
  },
  {
   "cell_type": "markdown",
   "id": "36dc5d72-b55b-4152-96fa-90669524928e",
   "metadata": {},
   "source": [
    "# function definitions"
   ]
  },
  {
   "cell_type": "code",
   "execution_count": null,
   "id": "44667f86-9f58-400a-beab-ae5fd0a9eed5",
   "metadata": {},
   "outputs": [],
   "source": [
    "def dl_accuracy(learner, dl, gpu=False):\n",
    "    act, true_labels = learner.get_preds(dl=dl)\n",
    "    preds = torch.argmax(act, axis=1)\n",
    "    acc = torch.where(true_labels == preds, 1., 0.).mean()\n",
    "    return acc.item()"
   ]
  },
  {
   "cell_type": "code",
   "execution_count": null,
   "id": "1811bd08-933f-4772-bca9-1e29af079869",
   "metadata": {},
   "outputs": [],
   "source": [
    "def nosplit(o): return L(int(i) for i in range(len(o))), L()"
   ]
  },
  {
   "cell_type": "markdown",
   "id": "9079b0f1-f8ef-489c-9aef-37573a4d49d4",
   "metadata": {},
   "source": [
    "# load data"
   ]
  },
  {
   "cell_type": "code",
   "execution_count": null,
   "id": "6a5a2d57-6601-4cdb-bdf2-56ab504b3b4a",
   "metadata": {},
   "outputs": [],
   "source": [
    "if torch.cuda.is_available():\n",
    "    use_gpu = True\n",
    "    gpu = torch.device('cuda')\n",
    "    print(torch.cuda.get_device_name(0))\n",
    "else:\n",
    "    print('No GPU available')"
   ]
  },
  {
   "cell_type": "code",
   "execution_count": null,
   "id": "786c3e79-fdd0-4833-bda1-e88d2bb59b6e",
   "metadata": {},
   "outputs": [],
   "source": [
    "train_dblock = DataBlock(blocks = (ImageBlock, CategoryBlock),\n",
    "                         get_items=get_image_files, \n",
    "                         splitter=RandomSplitter(seed=42),\n",
    "                         get_y=parent_label,\n",
    "                         item_tfms=Resize(460),\n",
    "                         batch_tfms=[*aug_transforms(size=224, min_scale=0.75),\n",
    "                                     Normalize.from_stats(*imagenet_stats)])"
   ]
  },
  {
   "cell_type": "code",
   "execution_count": null,
   "id": "c5211e47-d7b1-403e-8632-2cfe4f2b422c",
   "metadata": {},
   "outputs": [],
   "source": [
    "test_dblock = DataBlock(blocks = (ImageBlock, CategoryBlock),\n",
    "                        get_items=get_image_files, \n",
    "                        splitter=nosplit,\n",
    "                        get_y=parent_label,\n",
    "                        item_tfms=Resize(460),\n",
    "                        batch_tfms=[*aug_transforms(size=224, min_scale=0.75),\n",
    "                                    Normalize.from_stats(*imagenet_stats)])"
   ]
  },
  {
   "cell_type": "code",
   "execution_count": null,
   "id": "6afb4b6b-6001-4a7c-bdde-4ea9cd2a171e",
   "metadata": {},
   "outputs": [],
   "source": [
    "train_dls = train_dblock.dataloaders('mini_birds_dataset/train/', bs=256)\n",
    "test_dls = test_dblock.dataloaders('mini_birds_dataset/test/', bs=128)"
   ]
  },
  {
   "cell_type": "markdown",
   "id": "530bddad-d157-43fa-9f66-d72a176a7101",
   "metadata": {},
   "source": [
    "## Resnet34"
   ]
  },
  {
   "cell_type": "code",
   "execution_count": null,
   "id": "7bffe60e-72e4-4e12-983d-b68888513b3c",
   "metadata": {},
   "outputs": [],
   "source": [
    "resnet_34_learn = vision_learner(train_dls, resnet34, metrics=accuracy, loss_func=nn.CrossEntropyLoss()).to_fp16()"
   ]
  },
  {
   "cell_type": "code",
   "execution_count": null,
   "id": "fece261e-8fda-4e14-b0b6-0d3ad791c974",
   "metadata": {},
   "outputs": [],
   "source": [
    "lr_min,lr_steep = resnet_34_learn.lr_find(suggest_funcs=(minimum, steep))"
   ]
  },
  {
   "cell_type": "code",
   "execution_count": null,
   "id": "2190f9df-ddcf-4ec2-9ea5-c6472975b2fb",
   "metadata": {},
   "outputs": [],
   "source": [
    "print(f\"Minimum/10: {lr_min:.2e}, steepest point: {lr_steep:.2e}\")"
   ]
  },
  {
   "cell_type": "code",
   "execution_count": null,
   "id": "13f358da-d1c7-4549-babe-3a583729460d",
   "metadata": {},
   "outputs": [],
   "source": [
    "resnet_34_learn.fine_tune(15, freeze_epochs=3, base_lr=5e-2)"
   ]
  },
  {
   "cell_type": "code",
   "execution_count": null,
   "id": "e54e932f-5b98-4f9f-a97e-9b452836dcc7",
   "metadata": {},
   "outputs": [],
   "source": [
    "dl_accuracy(resnet_34_learn, test_dls.train)"
   ]
  },
  {
   "cell_type": "markdown",
   "id": "18de5e87-394b-4ce5-bd33-7365e5fc5bd0",
   "metadata": {},
   "source": [
    "## XResnet34"
   ]
  },
  {
   "cell_type": "code",
   "execution_count": null,
   "id": "7867f1be-cea8-4638-81d4-c93997d2b118",
   "metadata": {},
   "outputs": [],
   "source": [
    "xresnet_34_learn = vision_learner(train_dls, xresnet34, metrics=accuracy, loss_func=nn.CrossEntropyLoss()).to_fp16()"
   ]
  },
  {
   "cell_type": "code",
   "execution_count": null,
   "id": "7e74b6d0-412d-4425-a883-13d11f924131",
   "metadata": {},
   "outputs": [],
   "source": [
    "lr_min,lr_steep = xresnet_34_learn.lr_find(suggest_funcs=(minimum, steep))"
   ]
  },
  {
   "cell_type": "code",
   "execution_count": null,
   "id": "6fe8df3f-8787-42f0-92e6-29d85e0db7fb",
   "metadata": {},
   "outputs": [],
   "source": [
    "print(f\"Minimum/10: {lr_min:.2e}, steepest point: {lr_steep:.2e}\")"
   ]
  },
  {
   "cell_type": "code",
   "execution_count": null,
   "id": "ac454a66-1c9a-43cc-be39-f84bc34e3f88",
   "metadata": {},
   "outputs": [],
   "source": [
    "xresnet_34_learn.fine_tune(15, freeze_epochs=3, base_lr=1.5e-1)"
   ]
  },
  {
   "cell_type": "code",
   "execution_count": null,
   "id": "136fb7f9-823a-4c63-bc1a-a715d730f9f2",
   "metadata": {},
   "outputs": [],
   "source": [
    "dl_accuracy(xresnet_34_learn, test_dls.train)"
   ]
  },
  {
   "cell_type": "markdown",
   "id": "ffd3136f-bf1a-4c01-841e-936b0feaa4e7",
   "metadata": {},
   "source": [
    "## Resnet 50"
   ]
  },
  {
   "cell_type": "code",
   "execution_count": null,
   "id": "e901204e-02d5-47f0-af80-ddc34f63f235",
   "metadata": {},
   "outputs": [],
   "source": [
    "resnet_50_learn = vision_learner(train_dls, resnet50, metrics=accuracy, loss_func=nn.CrossEntropyLoss()).to_fp16()"
   ]
  },
  {
   "cell_type": "code",
   "execution_count": null,
   "id": "9f384fb3-5255-4f04-a3de-a85cafabe180",
   "metadata": {},
   "outputs": [],
   "source": [
    "lr_min,lr_steep = resnet_50_learn.lr_find(suggest_funcs=(minimum, steep))"
   ]
  },
  {
   "cell_type": "code",
   "execution_count": null,
   "id": "9d5bc9b2-a328-4c38-ac7b-0a439c2f9dcf",
   "metadata": {},
   "outputs": [],
   "source": [
    "print(f\"Minimum/10: {lr_min:.2e}, steepest point: {lr_steep:.2e}\")"
   ]
  },
  {
   "cell_type": "code",
   "execution_count": null,
   "id": "8c3ac175-34cc-49a5-94e1-dee60cf0a7bb",
   "metadata": {},
   "outputs": [],
   "source": [
    "resnet_50_learn.fine_tune(15, freeze_epochs=3, base_lr=3e-3)"
   ]
  },
  {
   "cell_type": "code",
   "execution_count": null,
   "id": "ee625052-1035-492e-b3ef-f15bd0dad6e5",
   "metadata": {},
   "outputs": [],
   "source": [
    "dl_accuracy(resnet_50_learn, test_dls.train)"
   ]
  },
  {
   "cell_type": "markdown",
   "id": "257e32cd-a056-4546-b011-6718c326d8bc",
   "metadata": {},
   "source": [
    "## Xresnet50"
   ]
  },
  {
   "cell_type": "code",
   "execution_count": null,
   "id": "4ea383ba-eed4-4c27-a529-d45775e48eab",
   "metadata": {},
   "outputs": [],
   "source": [
    "xresnet_50_learn = vision_learner(train_dls, xresnet50, metrics=accuracy, loss_func=nn.CrossEntropyLoss()).to_fp16()"
   ]
  },
  {
   "cell_type": "code",
   "execution_count": null,
   "id": "49e3346f-bff9-4359-ad48-6c26f44d2d53",
   "metadata": {},
   "outputs": [],
   "source": [
    "lr_min,lr_steep = xresnet_50_learn.lr_find(suggest_funcs=(minimum, steep))"
   ]
  },
  {
   "cell_type": "code",
   "execution_count": null,
   "id": "f0984845-cf14-46ce-9396-fc0e5f5389c0",
   "metadata": {},
   "outputs": [],
   "source": [
    "print(f\"Minimum/10: {lr_min:.2e}, steepest point: {lr_steep:.2e}\")"
   ]
  },
  {
   "cell_type": "code",
   "execution_count": null,
   "id": "1bd77332-114a-4148-b654-4444439bd972",
   "metadata": {},
   "outputs": [],
   "source": [
    "xresnet_50_learn.fine_tune(15, freeze_epochs=3, base_lr=9e-2)"
   ]
  },
  {
   "cell_type": "code",
   "execution_count": null,
   "id": "2af786e8-3077-452d-92f0-3df5a91d93e6",
   "metadata": {},
   "outputs": [],
   "source": [
    "dl_accuracy(xresnet_50_learn, test_dls.train)"
   ]
  }
 ],
 "metadata": {
  "kernelspec": {
   "display_name": "Python 3 (ipykernel)",
   "language": "python",
   "name": "python3"
  },
  "language_info": {
   "codemirror_mode": {
    "name": "ipython",
    "version": 3
   },
   "file_extension": ".py",
   "mimetype": "text/x-python",
   "name": "python",
   "nbconvert_exporter": "python",
   "pygments_lexer": "ipython3",
   "version": "3.10.6"
  }
 },
 "nbformat": 4,
 "nbformat_minor": 5
}
